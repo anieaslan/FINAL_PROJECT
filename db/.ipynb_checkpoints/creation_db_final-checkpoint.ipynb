{
 "cells": [
  {
   "cell_type": "code",
   "execution_count": 1,
   "metadata": {},
   "outputs": [],
   "source": [
    "import sqlite3\n",
    "\n",
    "import pandas as pd\n",
    "\n",
    "from sqlalchemy import create_engine\n",
    "\n"
   ]
  },
  {
   "cell_type": "code",
   "execution_count": 2,
   "metadata": {},
   "outputs": [],
   "source": [
    "legoDf = pd.read_csv('db_cleaned.csv')"
   ]
  },
  {
   "cell_type": "code",
   "execution_count": 3,
   "metadata": {},
   "outputs": [],
   "source": [
    "engine = create_engine('sqlite:///bd.db', echo=False)"
   ]
  },
  {
   "cell_type": "code",
   "execution_count": 9,
   "metadata": {},
   "outputs": [],
   "source": [
    "dfSets = legoDf[['SetNumber','name', 'binned']]\n",
    "dfSets.drop_duplicates(inplace=True)\n",
    "dfSets.to_sql('Sets', con = engine, if_exists = 'append', chunksize = 1000, index=False)\n"
   ]
  },
  {
   "cell_type": "code",
   "execution_count": 6,
   "metadata": {},
   "outputs": [],
   "source": [
    "dfParts = legoDf[['PartID','PartName', 'ImageURL', 'Colour', 'SetCount']]\n",
    "dfParts.drop_duplicates(inplace=True)\n",
    "dfParts.to_sql('Parts', con = engine, if_exists = 'append', chunksize = 1000, index=False)"
   ]
  },
  {
   "cell_type": "code",
   "execution_count": 7,
   "metadata": {},
   "outputs": [],
   "source": [
    "dfSetParts = legoDf[['PartID','SetNumber', 'Quantity']]\n",
    "dfSetParts.drop_duplicates(inplace=True)\n",
    "dfSetParts.to_sql('PartSets', con = engine, if_exists = 'append', chunksize = 1000, index=False)"
   ]
  },
  {
   "cell_type": "code",
   "execution_count": 10,
   "metadata": {},
   "outputs": [
    {
     "data": {
      "text/plain": [
       "[('10002-1', 'Railroad Club Car', 'Moderate'),\n",
       " ('10022-1',\n",
       "  'Santa Fe Cars - Set II (dining, observation, or sleeping car)',\n",
       "  'Moderate'),\n",
       " ('10025-1', 'Santa Fe Cars - Set I (mail or baggage car)', 'Moderate'),\n",
       " ('10170-1', 'TTX Intermodal Double-Stack Car', 'Moderate'),\n",
       " ('10673-1', 'Race Car Rally', 'Moderate'),\n",
       " ('10770-1', \"Buzz & Woody's Carnival Mania!\", 'Moderate'),\n",
       " ('31046-1', 'Fast Car', 'Moderate'),\n",
       " ('31074-1', 'Rocket Rally Car', 'Moderate'),\n",
       " ('4000000-1', 'Cars', 'Moderate'),\n",
       " ('40293-1', 'Christmas Carousel', 'Moderate'),\n",
       " ('41034-1', 'Summer Caravan', 'Moderate'),\n",
       " ('41053-1', 'Cinderella’s Dream Carriage', 'Moderate'),\n",
       " ('41124-1', 'Heartlake Puppy Daycare', 'Moderate'),\n",
       " ('41133-1', 'Amusement Park Bumper Cars', 'Moderate'),\n",
       " ('41157-1', \"Rapunzel's Travelling Caravan\", 'Moderate'),\n",
       " ('4117-1', 'Fantastic Flyers & Cool Cars Bucket', 'Moderate'),\n",
       " ('41348-1', 'Service and Care Truck', 'Moderate'),\n",
       " ('41350-1', 'Spinning Brushes Car Wash', 'Moderate'),\n",
       " ('41390-1', \"Andrea's Car & Stage\", 'Moderate'),\n",
       " ('42109-1', 'App-Controlled Top Gear Rally Car', 'Moderate'),\n",
       " ('4435-1', 'Car and Caravan', 'Moderate'),\n",
       " ('4939-1', 'Cool Cars', 'Moderate'),\n",
       " ('4995-1', 'Cargo Copter', 'Moderate'),\n",
       " ('60020-1', 'Cargo Truck', 'Moderate'),\n",
       " ('60021-1', 'Cargo Heliplane', 'Moderate'),\n",
       " ('60117-1', 'Van & Caravan', 'Moderate'),\n",
       " ('60158-1', 'Jungle Cargo Helicopter', 'Moderate'),\n",
       " ('60182-1', 'Pickup & Caravan', 'Moderate'),\n",
       " ('60183-1', 'Heavy Cargo Transport', 'Moderate'),\n",
       " ('6868-1', 'Hulk’s Helicarrier Breakout', 'Moderate'),\n",
       " ('70819-1', 'Bad Cop Car Chase', 'Moderate'),\n",
       " ('70910-1', 'Scarecrow Special Delivery', 'Moderate'),\n",
       " ('7188-1', \"King's Carriage Ambush\", 'Moderate'),\n",
       " ('75012-1', 'BARC Speeder with Sidecar', 'Moderate'),\n",
       " ('75137-1', 'Carbon-Freezing Chamber', 'Moderate'),\n",
       " ('75171-1', 'Battle on Scarif', 'Moderate'),\n",
       " ('75958-1', \"Beauxbatons' Carriage: Arrival at Hogwarts\", 'Moderate'),\n",
       " ('7734-1', 'Cargo Plane', 'Moderate'),\n",
       " ('7786-1', 'The Batcopter: The Chase for the Scarecrow', 'Moderate'),\n",
       " ('8075-1', 'Neptune Carrier', 'Moderate'),\n",
       " ('8376-1', 'Hot Flame RC Car', 'Moderate'),\n",
       " ('8634-1', 'Mission 5: Turbocar Chase', 'Moderate')]"
      ]
     },
     "execution_count": 10,
     "metadata": {},
     "output_type": "execute_result"
    }
   ],
   "source": [
    "connection = sqlite3.connect('bd.db')\n",
    "my_cursor = connection.execute(\"SELECT * from Sets where binned = ? and Name LIKE ?\", ['Moderate','%car%'])\n",
    "setList = my_cursor.fetchall()\n",
    "setList"
   ]
  },
  {
   "cell_type": "code",
   "execution_count": 8,
   "metadata": {},
   "outputs": [
    {
     "data": {
      "text/plain": [
       "[(302024,\n",
       "  'Plate 2X4',\n",
       "  'https://www.lego.com/service/bricks/5/2/302024',\n",
       "  'Bright Yellow',\n",
       "  423),\n",
       " (302124,\n",
       "  'Plate 2X3',\n",
       "  'https://www.lego.com/service/bricks/5/2/302124',\n",
       "  'Bright Yellow',\n",
       "  303),\n",
       " (302224,\n",
       "  'Plate 2X2',\n",
       "  'https://www.lego.com/service/bricks/5/2/302224',\n",
       "  'Bright Yellow',\n",
       "  445),\n",
       " (302324,\n",
       "  'Plate 1X2',\n",
       "  'https://www.lego.com/service/bricks/5/2/302324',\n",
       "  'Bright Yellow',\n",
       "  596),\n",
       " (302924,\n",
       "  'Plate 4X12',\n",
       "  'https://www.lego.com/service/bricks/5/2/302924',\n",
       "  'Bright Yellow',\n",
       "  12),\n",
       " (303224,\n",
       "  'Plate 4X6',\n",
       "  'https://www.lego.com/service/bricks/5/2/303224',\n",
       "  'Bright Yellow',\n",
       "  74),\n",
       " (303424,\n",
       "  'Plate 2X8',\n",
       "  'https://www.lego.com/service/bricks/5/2/303424',\n",
       "  'Bright Yellow',\n",
       "  98),\n",
       " (303524,\n",
       "  'Plate 4X8',\n",
       "  'https://www.lego.com/service/bricks/5/2/303524',\n",
       "  'Bright Yellow',\n",
       "  35),\n",
       " (346024,\n",
       "  'Plate 1X8',\n",
       "  'https://www.lego.com/service/bricks/5/2/346024',\n",
       "  'Bright Yellow',\n",
       "  113),\n",
       " (362324,\n",
       "  'Plate 1X3',\n",
       "  'https://www.lego.com/service/bricks/5/2/362324',\n",
       "  'Bright Yellow',\n",
       "  199),\n",
       " (366624,\n",
       "  'Plate 1X6',\n",
       "  'https://www.lego.com/service/bricks/5/2/366624',\n",
       "  'Bright Yellow',\n",
       "  223),\n",
       " (371024,\n",
       "  'Plate 1X4',\n",
       "  'https://www.lego.com/service/bricks/5/2/371024',\n",
       "  'Bright Yellow',\n",
       "  424),\n",
       " (379524,\n",
       "  'Plate 2X6',\n",
       "  'https://www.lego.com/service/bricks/5/2/379524',\n",
       "  'Bright Yellow',\n",
       "  219),\n",
       " (383224,\n",
       "  'Plate 2X10',\n",
       "  'https://www.lego.com/service/bricks/5/2/383224',\n",
       "  'Bright Yellow',\n",
       "  62),\n",
       " (447724,\n",
       "  'Plate 1X10',\n",
       "  'https://www.lego.com/service/bricks/5/2/447724',\n",
       "  'Bright Yellow',\n",
       "  55),\n",
       " (4243817,\n",
       "  'Plate 4X4',\n",
       "  'https://www.lego.com/service/bricks/5/2/4243817',\n",
       "  'Bright Yellow',\n",
       "  95)]"
      ]
     },
     "execution_count": 8,
     "metadata": {},
     "output_type": "execute_result"
    }
   ],
   "source": [
    "my_cursor = connection.execute(\"SELECT p.* from PartSets ps inner join Parts p on ps.PartId = p.PartId where ps.SetNumber = ?\", ['10012-1'])\n",
    "partList = my_cursor.fetchall()\n",
    "partList"
   ]
  },
  {
   "cell_type": "code",
   "execution_count": 11,
   "metadata": {},
   "outputs": [],
   "source": [
    "connection.close()"
   ]
  }
 ],
 "metadata": {
  "file_extension": ".py",
  "kernelspec": {
   "display_name": "Python 3",
   "language": "python",
   "name": "python3"
  },
  "language_info": {
   "codemirror_mode": {
    "name": "ipython",
    "version": 3
   },
   "file_extension": ".py",
   "mimetype": "text/x-python",
   "name": "python",
   "nbconvert_exporter": "python",
   "pygments_lexer": "ipython3",
   "version": "3.7.3"
  },
  "mimetype": "text/x-python",
  "name": "python",
  "npconvert_exporter": "python",
  "pygments_lexer": "ipython3",
  "version": 3
 },
 "nbformat": 4,
 "nbformat_minor": 2
}
